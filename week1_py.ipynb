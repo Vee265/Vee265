{
  "nbformat": 4,
  "nbformat_minor": 0,
  "metadata": {
    "colab": {
      "provenance": [],
      "authorship_tag": "ABX9TyOdSTyczYxglxzL+oJjxCi1",
      "include_colab_link": true
    },
    "kernelspec": {
      "name": "python3",
      "display_name": "Python 3"
    },
    "language_info": {
      "name": "python"
    }
  },
  "cells": [
    {
      "cell_type": "markdown",
      "metadata": {
        "id": "view-in-github",
        "colab_type": "text"
      },
      "source": [
        "<a href=\"https://colab.research.google.com/github/Vee265/Vee265/blob/main/week1_py.ipynb\" target=\"_parent\"><img src=\"https://colab.research.google.com/assets/colab-badge.svg\" alt=\"Open In Colab\"/></a>"
      ]
    },
    {
      "cell_type": "code",
      "execution_count": 9,
      "metadata": {
        "colab": {
          "base_uri": "https://localhost:8080/"
        },
        "id": "zjIgn7OecYBH",
        "outputId": "3cecfc73-3c9a-4e77-f9e7-25fe2cc0c322"
      },
      "outputs": [
        {
          "output_type": "stream",
          "name": "stdout",
          "text": [
            "A = 5\n",
            "B = 9\n",
            "C = 6\n",
            "Phuong trinh vo nghiẹm\n"
          ]
        }
      ],
      "source": [
        "a = float(input(\"A = \"))\n",
        "b = float(input(\"B = \"))\n",
        "c = float(input(\"C = \"))\n",
        "delta = b*b - 4*a*c\n",
        "\n",
        "if delta == 0:\n",
        "  print(\"Nghiệm kep: x = \", str(-b/(2*a)))\n",
        "\n",
        "if delta < 0:\n",
        "  print(\"Phuong trinh vo nghiẹm\")\n",
        "\n",
        "if delta > 0:\n",
        "  print(\"X1 = \" + str((-b+delta**0.5)/(2*a)))\n",
        "  print(\"X2 = \" + str((-b-delta**0.5)/(2*a)))"
      ]
    },
    {
      "cell_type": "code",
      "source": [
        "def giaithua(n):\n",
        "  gt = 1\n",
        "  for i in range(2, n+1):\n",
        "    gt = gt * i\n",
        "  return gt\n",
        "\n",
        "a = int(input(\"Nhap gia tri n: \"))\n",
        "print(\"N! =\", giaithua(a))"
      ],
      "metadata": {
        "colab": {
          "base_uri": "https://localhost:8080/"
        },
        "id": "rw-J9nmjfYdY",
        "outputId": "14a65736-8be6-41c3-9033-5ff12ecd21e4"
      },
      "execution_count": 8,
      "outputs": [
        {
          "output_type": "stream",
          "name": "stdout",
          "text": [
            "Nhap gia tri n: 2\n",
            "N! = 2\n"
          ]
        }
      ]
    },
    {
      "cell_type": "code",
      "source": [
        "a = int(input(\"A = \"))\n",
        "b = int(input(\"B = \"))\n",
        "\n",
        "while (b > 0):\n",
        "  if ( a > b):\n",
        "    a,b = b , a % b\n",
        "  else:\n",
        "    a , b = a, b % a\n",
        "print(\"USCLN la:\", a)"
      ],
      "metadata": {
        "colab": {
          "base_uri": "https://localhost:8080/"
        },
        "id": "RyTj5b-yiido",
        "outputId": "29101b35-a425-4a3b-d5f7-4b89d67aedc9"
      },
      "execution_count": 11,
      "outputs": [
        {
          "output_type": "stream",
          "name": "stdout",
          "text": [
            "A = 5\n",
            "B = 8\n",
            "USCLN la: 1\n"
          ]
        }
      ]
    },
    {
      "cell_type": "code",
      "source": [
        " P = 10000000\n",
        " r = 0.051\n",
        " n = 10\n",
        "\n",
        "\n",
        " A_10 = P * (1 + r)**n\n",
        " print(\"Sau 10 nam\", round(A_10, 0), \"đồng\")\n",
        "\n",
        "\n",
        " import math\n",
        " target = 50000000\n",
        " n_years = math.log(target / P) /math.log(1 + r)\n",
        " print(\"Cần khoảng:\", round(n_years, 1), \"năm để có ít nhất 50 triệu\")\n"
      ],
      "metadata": {
        "colab": {
          "base_uri": "https://localhost:8080/"
        },
        "id": "vCeAo1k2ixoR",
        "outputId": "75a765da-5d11-46f6-ac98-283291f8d150"
      },
      "execution_count": 14,
      "outputs": [
        {
          "output_type": "stream",
          "name": "stdout",
          "text": [
            "Sau 10 nam 16444746.0 đồng\n",
            "Cần khoảng: 32.4 năm để có ít nhất 50 triệu\n"
          ]
        }
      ]
    },
    {
      "cell_type": "code",
      "source": [
        "n = int(input(\"Nhap so nguyen n = \"))\n",
        "print(\"n ơ he co so 16:\", hex(n))\n",
        "print(\"n o he co so 8:\", oct(n))\n",
        "print(\"n o he co so 2:\", bin(n))"
      ],
      "metadata": {
        "colab": {
          "base_uri": "https://localhost:8080/"
        },
        "id": "92C_yHM4qHyh",
        "outputId": "f84459d7-77ae-4ee4-e091-a32cbae2d83b"
      },
      "execution_count": 15,
      "outputs": [
        {
          "output_type": "stream",
          "name": "stdout",
          "text": [
            "Nhap so nguyen n = 546979\n",
            "n ơ he co so 16: 0x858a3\n",
            "n o he co so 8: 0o2054243\n",
            "n o he co so 2: 0b10000101100010100011\n"
          ]
        }
      ]
    }
  ]
}